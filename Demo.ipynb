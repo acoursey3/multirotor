{
 "cells": [
  {
   "cell_type": "markdown",
   "id": "d001f534",
   "metadata": {
    "heading_collapsed": true
   },
   "source": [
    "#### Notebook setup"
   ]
  },
  {
   "cell_type": "code",
   "execution_count": null,
   "id": "be76bd53",
   "metadata": {
    "hidden": true
   },
   "outputs": [],
   "source": [
    "%pip install -e ."
   ]
  },
  {
   "cell_type": "code",
   "execution_count": null,
   "id": "5a776232",
   "metadata": {
    "hidden": true
   },
   "outputs": [],
   "source": [
    "%reload_ext autoreload\n",
    "%autoreload 2\n",
    "%matplotlib inline\n",
    "import time\n",
    "import warnings\n",
    "import os, sys\n",
    "from copy import deepcopy\n",
    "from types import SimpleNamespace\n",
    "\n",
    "import matplotlib.pyplot as plt\n",
    "import gym\n",
    "import numpy as np\n",
    "from tqdm.auto import tqdm, trange\n",
    "\n",
    "from multirotor.helpers import control_allocation_matrix, DataLog\n",
    "from multirotor.vehicle import MotorParams, VehicleParams, PropellerParams, SimulationParams, BatteryParams\n",
    "from multirotor.controller import (\n",
    "    PosController, VelController,\n",
    "    AttController, RateController,\n",
    "    AltController, AltRateController,\n",
    "    Controller\n",
    ")\n",
    "from multirotor.simulation import Multirotor, Propeller, Motor, Battery\n",
    "from multirotor.coords import body_to_inertial, inertial_to_body, direction_cosine_matrix, angular_to_euler_rate\n",
    "from multirotor.env import SpeedsMultirotorEnv as LocalOctorotor\n",
    "from multirotor.trajectories import Trajectory, GuidedTrajectory"
   ]
  },
  {
   "cell_type": "code",
   "execution_count": null,
   "id": "421b284b",
   "metadata": {
    "hidden": true
   },
   "outputs": [],
   "source": [
    "# Plotting/display parameters\n",
    "# https://stackoverflow.com/a/21009774/4591810\n",
    "float_formatter = \"{:.3f}\".format\n",
    "np.set_printoptions(formatter={'float_kind':float_formatter})\n",
    "\n",
    "SMALL_SIZE = 16\n",
    "MEDIUM_SIZE = 16\n",
    "BIGGER_SIZE = 20\n",
    "\n",
    "plt.rc('font', size=SMALL_SIZE)          # controls default text sizes\n",
    "plt.rc('axes', titlesize=MEDIUM_SIZE)     # fontsize of the axes title\n",
    "plt.rc('axes', labelsize=BIGGER_SIZE, titlesize=BIGGER_SIZE)    # fontsize of the x and y labels\n",
    "plt.rc('xtick', labelsize=MEDIUM_SIZE)    # fontsize of the tick labels\n",
    "plt.rc('ytick', labelsize=MEDIUM_SIZE)    # fontsize of the tick labels\n",
    "plt.rc('legend', fontsize=SMALL_SIZE)    # legend fontsize\n",
    "plt.rc('figure', titlesize=BIGGER_SIZE)  # fontsize of the figure title\n"
   ]
  },
  {
   "cell_type": "markdown",
   "id": "9a31149f",
   "metadata": {},
   "source": [
    "### Parameters"
   ]
  },
  {
   "cell_type": "code",
   "execution_count": null,
   "id": "1ba2a2fe",
   "metadata": {
    "scrolled": false
   },
   "outputs": [],
   "source": [
    "# Tarot T18 params\n",
    "bp = BatteryParams(max_voltage=22.2)\n",
    "mp = MotorParams(\n",
    "    moment_of_inertia=5e-5,\n",
    "    # resistance=0.27,\n",
    "    resistance=0.081,\n",
    "    k_emf=0.0265,\n",
    "    # k_motor=0.0932,\n",
    "    speed_voltage_scaling=0.0347,\n",
    "    max_current=38.\n",
    ")\n",
    "pp = PropellerParams(\n",
    "    moment_of_inertia=1.86e-6,\n",
    "    use_thrust_constant=True,\n",
    "    k_thrust=9.8419e-05, # 18-inch propeller\n",
    "    # k_thrust=5.28847e-05, # 15 inch propeller\n",
    "    k_drag=1.8503e-06, # 18-inch propeller\n",
    "    # k_drag=1.34545e-06, # 15-inch propeller\n",
    "    motor=mp\n",
    ")\n",
    "vp = VehicleParams(\n",
    "    propellers=[pp] * 8,\n",
    "    battery=bp,\n",
    "    # angles in 45 deg increments, rotated to align with\n",
    "    # model setup in gazebo sim (not part of this repo)\n",
    "    angles=np.linspace(0, -2*np.pi, num=8, endpoint=False) + 0.375 * np.pi,\n",
    "    distances=np.ones(8) * 0.635,\n",
    "    clockwise=[-1,1,-1,1,-1,1,-1,1],\n",
    "    mass=10.66,\n",
    "    inertia_matrix=np.asarray([\n",
    "        [0.2206, 0, 0],\n",
    "        [0, 0.2206, 0.],\n",
    "        [0, 0, 0.4238]\n",
    "    ])\n",
    ")\n",
    "sp = SimulationParams(dt=0.001, g=9.81)"
   ]
  },
  {
   "cell_type": "markdown",
   "id": "17f3b34d",
   "metadata": {
    "heading_collapsed": true
   },
   "source": [
    "### Multirotor"
   ]
  },
  {
   "cell_type": "markdown",
   "id": "0505e4f6",
   "metadata": {
    "heading_collapsed": true,
    "hidden": true
   },
   "source": [
    "#### Motor"
   ]
  },
  {
   "cell_type": "code",
   "execution_count": null,
   "id": "b3128c10",
   "metadata": {
    "hidden": true
   },
   "outputs": [],
   "source": [
    "%matplotlib inline\n",
    "# Plot motor speeds as a function of time and input voltage signal\n",
    "plt.figure(figsize=(8,8))\n",
    "motor = Motor(mp, sp)\n",
    "for signal in [2, 4, 6, 8, 10, 12, 14, 16, 18, 20]:\n",
    "    speeds = []\n",
    "    motor.reset()\n",
    "    for i in range(200):\n",
    "        speeds.append(motor.step(signal))\n",
    "    plt.plot(speeds, label='%dV' % signal)\n",
    "plt.legend(ncol=2)\n",
    "plt.ylabel('Speed rad/s')\n",
    "plt.xlabel('Time /ms')"
   ]
  },
  {
   "cell_type": "code",
   "execution_count": null,
   "id": "42ebfb97",
   "metadata": {
    "hidden": true
   },
   "outputs": [],
   "source": [
    "from multirotor.helpers import learn_speed_voltage_scaling\n",
    "\n",
    "def make_motor_fn(params, sp):\n",
    "    from copy import deepcopy\n",
    "    params = deepcopy(params)\n",
    "    params.speed_voltage_scaling = 1.\n",
    "    def motor_step(signal):\n",
    "        m = Motor(params, sp)\n",
    "        for i in range(100):\n",
    "            s = m.step(signal)\n",
    "        return s\n",
    "    return motor_step\n",
    "\n",
    "print('Voltage = %.5f * speed' % (learn_speed_voltage_scaling(make_motor_fn(mp, sp))))"
   ]
  },
  {
   "cell_type": "markdown",
   "id": "6fb2f5c9",
   "metadata": {
    "heading_collapsed": true,
    "hidden": true
   },
   "source": [
    "#### Propeller"
   ]
  },
  {
   "cell_type": "code",
   "execution_count": null,
   "id": "1669687b",
   "metadata": {
    "hidden": true
   },
   "outputs": [],
   "source": [
    "%matplotlib inline\n",
    "# Plot propeller speed by numerically solving the thrust equation,\n",
    "# *if* accurate propeller measurements are given in params\n",
    "pp_ = deepcopy(pp)\n",
    "pp_.use_thrust_constant = False # Set to true to just use k_thrust\n",
    "prop = Propeller(pp_, sp)\n",
    "plt.figure(figsize=(8,8))\n",
    "speeds = np.linspace(0, 600, num=100)\n",
    "for a in np.linspace(0, 10, 10, endpoint=False):\n",
    "    thrusts = []\n",
    "    for s in speeds:\n",
    "        thrusts.append(prop.thrust(s, np.asarray([0, 0, a])))\n",
    "    plt.plot(speeds, thrusts, label='%.1f m/s' % a)\n",
    "plt.xlabel('Speed rad/s')\n",
    "plt.ylabel('Thrust /N')\n",
    "plt.title('Thrust with airspeed')\n",
    "plt.legend(ncol=2)"
   ]
  },
  {
   "cell_type": "markdown",
   "id": "e7bb489d",
   "metadata": {
    "heading_collapsed": true,
    "hidden": true
   },
   "source": [
    "#### Vehicle"
   ]
  },
  {
   "cell_type": "code",
   "execution_count": null,
   "id": "ecc23e14",
   "metadata": {
    "hidden": true
   },
   "outputs": [],
   "source": [
    "# Combine propeller/motor/vehicle to get vehicle.\n",
    "# Take off simulation\n",
    "m = Multirotor(vp, sp)\n",
    "log = DataLog(vehicle=m) # convenient logging class\n",
    "m.reset()\n",
    "m.state *= 0 # set to zero, reset() sets random values\n",
    "action = m.allocate_control(\n",
    "    thrust=m.weight * 1.1,\n",
    "    torques=np.asarray([0, 0, 0])\n",
    ")\n",
    "for i in range(500):\n",
    "    m.step_speeds(action)\n",
    "    log.log()\n",
    "log.done_logging()\n",
    "plt.plot(log.z)"
   ]
  },
  {
   "cell_type": "markdown",
   "id": "2c6535f4",
   "metadata": {
    "heading_collapsed": true
   },
   "source": [
    "### PID Controller"
   ]
  },
  {
   "cell_type": "code",
   "execution_count": null,
   "id": "33984887",
   "metadata": {
    "hidden": true
   },
   "outputs": [],
   "source": [
    "# From PID parameters file\n",
    "def get_controller(m: Multirotor):\n",
    "    pos = PosController(\n",
    "        1.0, 0., 0., 1., dt=m.simulation.dt, vehicle=m)\n",
    "    vel = VelController(\n",
    "        2.0, 1.0, 0.5, 1000., dt=m.simulation.dt, vehicle=m)\n",
    "    att = AttController(\n",
    "        [2.6875, 4.5, 4.5],\n",
    "        0, 0.,\n",
    "        1., dt=m.simulation.dt, vehicle=m)\n",
    "    rat = RateController(\n",
    "        [0.1655, 0.1655, 0.5],\n",
    "        [0.135, 0.135, 0.018],\n",
    "        [0.01234, 0.01234, 0.],\n",
    "        [0.5,0.5,0.5], dt=m.simulation.dt, vehicle=m)\n",
    "    alt = AltController(\n",
    "        1, 0, 0,\n",
    "        1, dt=m.simulation.dt, vehicle=m)\n",
    "    alt_rate = AltRateController(\n",
    "        5, 0, 0,\n",
    "        1, dt=m.simulation.dt, vehicle=m)\n",
    "    ctrl = Controller(\n",
    "        pos, vel, att, rat, alt, alt_rate\n",
    "    )\n",
    "    return ctrl"
   ]
  },
  {
   "cell_type": "code",
   "execution_count": null,
   "id": "d21d73fe",
   "metadata": {
    "hidden": true
   },
   "outputs": [],
   "source": [
    "%matplotlib inline\n",
    "m = Multirotor(vp, sp)\n",
    "ctrl = get_controller(m)\n",
    "log = DataLog(controller=ctrl)\n",
    "for i in range(100):\n",
    "    action = ctrl.step((1,1,1,0))\n",
    "    log.log()\n",
    "log.done_logging()\n",
    "\n",
    "plt.plot(log.actions[:,0], ls=':', label='thrust')\n",
    "lines = plt.gca().lines\n",
    "plt.twinx()\n",
    "for s, axis in zip(log.actions.T[1:], ('x','y','z')):\n",
    "    plt.plot(s, label=axis + '-torque')\n",
    "plt.legend(handles=plt.gca().lines + lines)"
   ]
  },
  {
   "cell_type": "markdown",
   "id": "cfbc9c25",
   "metadata": {
    "heading_collapsed": true,
    "hidden": true
   },
   "source": [
    "#### Attitude Angle Controller"
   ]
  },
  {
   "cell_type": "code",
   "execution_count": null,
   "id": "f012e1f8",
   "metadata": {
    "hidden": true
   },
   "outputs": [],
   "source": [
    "m = Multirotor(vp, sp)\n",
    "fz = m.weight\n",
    "att =  get_controller(m).ctrl_a\n",
    "log = DataLog(vehicle=m, controller=att, other_vars=('err',))\n",
    "for i in range(5000):\n",
    "    ref = np.asarray([np.pi/18, 0, 0])\n",
    "    # action is prescribed euler rate\n",
    "    action = att.step(ref, m.orientation)\n",
    "    # action = np.clip(action, a_min=-0.1, a_max=0.1)\n",
    "    m.step_dynamics(np.asarray([0, 0, 0, *action]))\n",
    "    log.log(err=att.err_p[0])\n",
    "    log._actions[-1] = action\n",
    "log.done_logging()\n",
    "\n",
    "plt.plot(log.roll * 180 / np.pi)\n",
    "plt.twinx()\n",
    "plt.plot(log.actions[:,0], ls=':', label='Rate rad/s')"
   ]
  },
  {
   "cell_type": "markdown",
   "id": "fdbd88c1",
   "metadata": {
    "heading_collapsed": true,
    "hidden": true
   },
   "source": [
    "#### Attitude Rate Controller"
   ]
  },
  {
   "cell_type": "code",
   "execution_count": null,
   "id": "9cc3b317",
   "metadata": {
    "hidden": true
   },
   "outputs": [],
   "source": [
    "m = Multirotor(vp, sp)\n",
    "fz = m.weight\n",
    "ctrl = get_controller(m)\n",
    "rat = ctrl.ctrl_r\n",
    "att = ctrl.ctrl_a\n",
    "log = DataLog(vehicle=m, controller=rat, other_vars=('err',))\n",
    "for i in range(5000):\n",
    "    ref = np.asarray([np.pi/18, 0, 0])\n",
    "    rate = att.step(ref, m.orientation)\n",
    "    action = rat.step(rate, m.euler_rate)\n",
    "    action = np.clip(action, a_min=-0.1, a_max=0.1)\n",
    "    m.step_dynamics(np.asarray([0, 0, 0, *action]))\n",
    "    log.log(err=rat.err_p[0])\n",
    "    log._actions[-1] = action\n",
    "log.done_logging()\n",
    "\n",
    "plt.plot(log.roll * 180 / np.pi)\n",
    "plt.twinx()\n",
    "plt.plot(log.actions[:,0], ls=':')"
   ]
  },
  {
   "cell_type": "markdown",
   "id": "6370aa80",
   "metadata": {
    "heading_collapsed": true,
    "hidden": true
   },
   "source": [
    "#### Altitude Controller"
   ]
  },
  {
   "cell_type": "code",
   "execution_count": null,
   "id": "5fcd0d24",
   "metadata": {
    "hidden": true
   },
   "outputs": [],
   "source": [
    "m = Multirotor(vp, sp)\n",
    "ctrl = get_controller(m)\n",
    "alt = ctrl.ctrl_z\n",
    "alt_rate = ctrl.ctrl_vz\n",
    "log = DataLog(vehicle=m, controller=alt, other_vars=('thrust',))\n",
    "for i in range(5000):\n",
    "    ref = np.asarray([1.])\n",
    "    rate = alt.step(ref, m.position[2:])\n",
    "    action = alt_rate.step(rate, m.world_velocity[2:])\n",
    "    action = np.clip(action, a_min=-2*m.weight, a_max=2*m.weight)\n",
    "    m.step_dynamics(np.asarray([0, 0, action[0], 0,0,0]))\n",
    "    log.log(thrust=action)\n",
    "    #log._actions[-1] = action\n",
    "log.done_logging()\n",
    "\n",
    "plt.plot(log.actions.squeeze())\n",
    "plt.twinx()\n",
    "plt.plot(log.z, ls=':')"
   ]
  },
  {
   "cell_type": "markdown",
   "id": "f4278c17",
   "metadata": {
    "hidden": true
   },
   "source": [
    "#### Position Controller"
   ]
  },
  {
   "cell_type": "code",
   "execution_count": null,
   "id": "91ae8919",
   "metadata": {
    "hidden": true
   },
   "outputs": [],
   "source": [
    "m = Multirotor(vp, sp)\n",
    "ctrl = get_controller(m)\n",
    "pos = ctrl.ctrl_p\n",
    "vel = ctrl.ctrl_v\n",
    "rat = ctrl.ctrl_r\n",
    "att = ctrl.ctrl_a\n",
    "log = DataLog(vehicle=m, controller=pos, other_vars=('err', 'att_actions'))\n",
    "for i in range(5000):\n",
    "    ref = np.asarray([1.,0.])\n",
    "    velocity = pos.step(ref, m.position[:2])\n",
    "    angles = vel.step(velocity, m.velocity[:2])[::-1]\n",
    "    rate = att.step(np.asarray([*angles, 0]), m.orientation)\n",
    "    action = rat.step(rate, m.euler_rate)\n",
    "    action = np.clip(action, a_min=-0.1, a_max=0.1)\n",
    "    m.step_dynamics(np.asarray([0, 0, m.weight, *action]))\n",
    "    log.log(err=pos.err_p[0], att_actions=action)\n",
    "log.done_logging()\n",
    "\n",
    "plt.plot(log.position[:,0])\n",
    "plt.plot(log.err)\n",
    "# plt.plot(log.position[:,1])\n",
    "plt.twinx()\n",
    "plt.plot(log.actions[:,0] * 180 / np.pi, ls=':')\n",
    "plt.plot(log.pitch * 180 / np.pi, ls='-.')\n",
    "# plt.plot(log.actions[:,0] * 180 / np.pi, ls=':')"
   ]
  },
  {
   "cell_type": "markdown",
   "id": "9eb34672",
   "metadata": {},
   "source": [
    "### Simulation"
   ]
  },
  {
   "cell_type": "code",
   "execution_count": null,
   "id": "f5f52df4",
   "metadata": {},
   "outputs": [],
   "source": [
    "def wind(t, m, nominal=False):\n",
    "    if nominal:\n",
    "        return np.zeros(3)\n",
    "    w_inertial = np.asarray([5 * np.sin(t * 2 * np.pi / 4000), 0, 0])\n",
    "    dcm = direction_cosine_matrix(*m.orientation)\n",
    "    return inertial_to_body(w_inertial, dcm)"
   ]
  },
  {
   "cell_type": "code",
   "execution_count": null,
   "id": "d60f1ca5",
   "metadata": {},
   "outputs": [],
   "source": [
    "from pyscurve import plot_trajectory"
   ]
  },
  {
   "cell_type": "code",
   "execution_count": null,
   "id": "a98de44f",
   "metadata": {
    "scrolled": false
   },
   "outputs": [],
   "source": [
    "env = LocalOctorotor(vehicle=Multirotor(vp, sp))\n",
    "\n",
    "waypoints = [[0,50,2], [50,50,2], [50,0,2], [25,-25,2]]\n",
    "traj = GuidedTrajectory(env.vehicle, waypoints, proximity=2)\n",
    "# traj = Trajectory(env.vehicle, waypoints, proximity=2, resolution=None)\n",
    "\n",
    "ctrl = get_controller(env.vehicle)\n",
    "      \n",
    "errs = SimpleNamespace()\n",
    "errs.pos = SimpleNamespace()\n",
    "errs.pos.p, errs.pos.i, errs.pos.d = [], [], []\n",
    "errs.att = SimpleNamespace()\n",
    "errs.att.p, errs.att.i, errs.att.d = [], [], []\n",
    "\n",
    "log = DataLog(env.vehicle, ctrl,\n",
    "              other_vars=('speeds','target', 'alloc_errs',\n",
    "                          'ctrl_p', 'leash', 'err_p', 'ff_vel',\n",
    "                           'currents', 'voltages'))\n",
    "\n",
    "for i, (pos, feed_forward_vel) in tqdm(enumerate(traj), leave=False, total=60000):\n",
    "    if i==1000: break\n",
    "    # Generate reference for controller\n",
    "    ref = np.asarray([*pos, 0.])\n",
    "    # Get prescribed dynamics for system as thrust and torques\n",
    "    dynamics = ctrl.step(ref, feed_forward_velocity=feed_forward_vel)\n",
    "    thrust, torques = dynamics[0], dynamics[1:]\n",
    "    # Allocate control: Convert dynamics into motor rad/s\n",
    "    action = env.vehicle.allocate_control(thrust, torques)\n",
    "    # get any disturbances\n",
    "    wind_force = wind(i, env.vehicle, nominal=False)\n",
    "    # Send speeds to environment\n",
    "    state, *_ = env.step(\n",
    "        action, disturb_forces=wind_force, disturb_torques=0\n",
    "    )\n",
    "    \n",
    "    for (c, e) in zip((ctrl.ctrl_p, ctrl.ctrl_a), (errs.pos, errs.att)):\n",
    "        e.p.append(c.err_p)\n",
    "        e.i.append(c.err_i)\n",
    "        e.d.append(c.err_d)\n",
    "    alloc_errs = np.asarray([thrust, *torques]) - env.vehicle.alloc @ action**2\n",
    "    \n",
    "    log.log(speeds=action, target=pos, alloc_errs=alloc_errs,\n",
    "            ctrl_p=ctrl.ctrl_p.action, leash=ctrl.ctrl_p.leash,\n",
    "            err_p=ctrl.ctrl_p.err, ff_vel=feed_forward_vel,\n",
    "            currents=[p.motor.current_average(env.vehicle.battery.params.max_voltage) for p in env.vehicle.propellers],\n",
    "            voltages=[p.motor.voltage for p in env.vehicle.propellers])\n",
    "\n",
    "    if np.any(np.abs(env.vehicle.orientation[:2]) > np.pi/6): break\n",
    "\n",
    "log.done_logging()"
   ]
  },
  {
   "cell_type": "code",
   "execution_count": null,
   "id": "2d1b0058",
   "metadata": {
    "scrolled": false
   },
   "outputs": [],
   "source": [
    "plt.plot(log.currents, ls=':')\n",
    "plt.ylabel('Motor current /A')\n",
    "plt.xlabel('Time /ms')\n",
    "plt.title('Individual motor currents')"
   ]
  },
  {
   "cell_type": "code",
   "execution_count": null,
   "id": "f0aa49e1",
   "metadata": {
    "scrolled": false
   },
   "outputs": [],
   "source": [
    "plt.plot(log.voltages, ls=':')\n",
    "plt.ylim(0, 30)\n",
    "plt.ylabel('Motor voltage /A')\n",
    "plt.xlabel('Time /ms')\n",
    "plt.title('Voltages')"
   ]
  },
  {
   "cell_type": "code",
   "execution_count": null,
   "id": "5d64dbce",
   "metadata": {
    "scrolled": false
   },
   "outputs": [],
   "source": [
    "plot_trajectory(traj.trajs[-1], dt=0.1)"
   ]
  },
  {
   "cell_type": "code",
   "execution_count": null,
   "id": "81a8043e",
   "metadata": {
    "scrolled": true
   },
   "outputs": [],
   "source": [
    "%matplotlib inline\n",
    "plt.figure(figsize=(21,10.5))\n",
    "plot_grid = (3,3)\n",
    "plt.subplot(*plot_grid,1)\n",
    "\n",
    "n = len(log)\n",
    "\n",
    "plt.plot(log.x, label='x', c='r')\n",
    "plt.plot(log.target[:, 0], c='r', ls=':')\n",
    "plt.plot(log.y, label='y', c='g')\n",
    "plt.plot(log.target[:, 1], c='g', ls=':')\n",
    "plt.plot(log.z, label='z', c='b')\n",
    "lines = plt.gca().lines[::2]\n",
    "plt.ylabel('Position /m')\n",
    "plt.twinx()\n",
    "plt.plot(log.roll * (180 / np.pi), label='roll', c='c', ls=':')\n",
    "plt.plot(log.pitch * (180 / np.pi), label='pitch', c='m', ls=':')\n",
    "plt.plot(log.yaw * (180 / np.pi), label='yaw', c='y', ls=':')\n",
    "plt.ylabel('Orientation /deg')\n",
    "plt.legend(handles=plt.gca().lines + lines, ncol=2)\n",
    "plt.title('Position and Orientation')\n",
    "\n",
    "plt.subplot(*plot_grid,2)\n",
    "for i in range(log.speeds.shape[1]):\n",
    "    l, = plt.plot(log.speeds[:,i], label='prop %d' % i)\n",
    "#     plt.plot(speeds[:,i], c=l.get_c())\n",
    "lines = plt.gca().lines\n",
    "plt.legend(handles=lines, ncol=2)\n",
    "plt.title('Motor speeds /RPM')\n",
    "\n",
    "\n",
    "plt.subplot(*plot_grid,3)\n",
    "v_world = np.zeros_like(log.velocity)\n",
    "for i, (v, o) in enumerate(zip(log.velocity, log.orientation)):\n",
    "    dcm = direction_cosine_matrix(*o)\n",
    "    v_world[i] = body_to_inertial(v, dcm)\n",
    "for i, c, a in zip(range(3), 'rgb', 'xyz'):\n",
    "    plt.plot(v_world[:,i], label='Velocity %s' % a, c=c)\n",
    "#     plt.plot(velocities[:,i], label='Velocity %s' % a, c=c)\n",
    "plt.legend()\n",
    "plt.title('Velocities')\n",
    "\n",
    "plt.subplot(*plot_grid,4)\n",
    "plt.title('Controller allocated dynamics')\n",
    "l = plt.plot(log.actions[:,0], label='Ctrl Thrust')\n",
    "plt.ylabel('Force /N')\n",
    "plt.twinx()\n",
    "for i, c, a in zip(range(3), 'rgb', 'xyz'):\n",
    "    plt.plot(log.actions[:,1+i], label='Ctrl Torque %s' % a, c=c)\n",
    "plt.ylabel('Torque /Nm')\n",
    "plt.legend(handles=plt.gca().lines + l, ncol=2)\n",
    "\n",
    "plt.subplot(*plot_grid,5)\n",
    "lines = plt.plot(log.alloc_errs[:, 0], label='Thrust err', c='b')\n",
    "plt.ylabel('Thrust /N')\n",
    "plt.twinx()\n",
    "plt.plot(log.alloc_errs[:, 1], label='Torque x err', ls=':')\n",
    "plt.plot(log.alloc_errs[:, 2], label='Torque y err', ls=':')\n",
    "plt.plot(log.alloc_errs[:, 3], label='Torque z err', ls=':')\n",
    "plt.legend(handles = plt.gca().lines + lines, ncol=2)\n",
    "plt.ylabel('Torque /Nm')\n",
    "plt.title('Allocation Errors')\n",
    "\n",
    "plt.subplot(*plot_grid,6)\n",
    "plt.plot(log.target[:,0], log.target[:,1], label='Prescribed traj')\n",
    "plt.plot(log.x, log.y, label='Actual traj', ls=':')\n",
    "plt.gca().set_aspect('equal', 'box')\n",
    "plt.title('XY positions /m')\n",
    "plt.legend()\n",
    "\n",
    "plt.tight_layout()"
   ]
  },
  {
   "cell_type": "code",
   "execution_count": null,
   "id": "c17d8b15",
   "metadata": {
    "scrolled": false
   },
   "outputs": [],
   "source": [
    "%matplotlib inline\n",
    "for e in (errs.pos, errs.att):\n",
    "    e.p = np.asarray(e.p)\n",
    "    e.i = np.asarray(e.i)\n",
    "    e.d = np.asarray(e.d)\n",
    "lines = []\n",
    "plt.figure(figsize=(21,24))\n",
    "plt.subplot(6,1,1)\n",
    "plt.plot(errs.pos.p[:,0], label='Pos-x P', c='r', ls='-')\n",
    "plt.plot(errs.pos.p[:,1], label='Pos-y P', c='g', ls='-')\n",
    "lines += plt.gca().lines\n",
    "plt.title('Position P errors')\n",
    "plt.subplot(6,1, 2)\n",
    "plt.plot(errs.pos.i[:, 0], label='Pos-x I', c='r', ls=':')\n",
    "plt.plot(errs.pos.i[:, 1], label='Pos-y I', c='g', ls=':')\n",
    "lines += plt.gca().lines\n",
    "plt.title('Position I errors')\n",
    "plt.subplot(6,1, 3)\n",
    "plt.plot(errs.pos.d[:, 0], label='Pos-x D', c='r', ls='-.')\n",
    "plt.plot(errs.pos.d[:, 1], label='Pos-y D', c='g', ls='-.')\n",
    "lines += plt.gca().lines\n",
    "plt.legend(handles=lines)\n",
    "plt.title('Position D errors')\n",
    "lines = []\n",
    "plt.subplot(6,1,4)\n",
    "plt.plot(errs.att.p[:,0], label='Att-x P', c='r', ls='-')\n",
    "plt.plot(errs.att.p[:,1], label='Att-y P', c='g', ls='-')\n",
    "lines += plt.gca().lines\n",
    "plt.title('Attitude P errors')\n",
    "plt.subplot(6,1, 5)\n",
    "plt.plot(errs.att.i[:, 0], label='Att-x I', c='r', ls=':')\n",
    "plt.plot(errs.att.i[:, 1], label='Att-y I', c='g', ls=':')\n",
    "lines += plt.gca().lines\n",
    "plt.title('Attitude I errors')\n",
    "plt.subplot(6,1, 6)\n",
    "plt.plot(errs.att.d[:, 0], label='Att-x D', c='r', ls='-.')\n",
    "plt.plot(errs.att.d[:, 1], label='Att-y D', c='g', ls='-.')\n",
    "lines += plt.gca().lines\n",
    "plt.legend(handles=lines)\n",
    "plt.title('Attitude D errors')"
   ]
  },
  {
   "cell_type": "code",
   "execution_count": null,
   "id": "d9d99572",
   "metadata": {},
   "outputs": [],
   "source": [
    "%matplotlib notebook\n",
    "fig = plt.figure()\n",
    "xlim = ylim = zlim = (np.min(log.position), np.max(log.position))\n",
    "ax = fig.add_subplot(projection='3d', xlim=xlim, ylim=ylim, zlim=zlim)\n",
    "ax.set_xlabel('x')\n",
    "ax.set_ylabel('y')\n",
    "ax.set_zlabel('z')\n",
    "ax.plot(log.x, log.y, log.z)"
   ]
  }
 ],
 "metadata": {
  "kernelspec": {
   "display_name": "Python 3 (ipykernel)",
   "language": "python",
   "name": "python3"
  },
  "language_info": {
   "codemirror_mode": {
    "name": "ipython",
    "version": 3
   },
   "file_extension": ".py",
   "mimetype": "text/x-python",
   "name": "python",
   "nbconvert_exporter": "python",
   "pygments_lexer": "ipython3",
   "version": "3.9.13"
  },
  "vscode": {
   "interpreter": {
    "hash": "553746a2ac893171982ffcb8d83cc0ca836885831c1ad096aed2033dbb6014ba"
   }
  }
 },
 "nbformat": 4,
 "nbformat_minor": 5
}
