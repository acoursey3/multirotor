{
 "cells": [
  {
   "cell_type": "markdown",
   "id": "d001f534",
   "metadata": {
    "heading_collapsed": true
   },
   "source": [
    "#### Notebook setup"
   ]
  },
  {
   "cell_type": "code",
   "execution_count": null,
   "id": "be76bd53",
   "metadata": {
    "hidden": true
   },
   "outputs": [],
   "source": [
    "%pip install -e ."
   ]
  },
  {
   "cell_type": "code",
   "execution_count": null,
   "id": "5a776232",
   "metadata": {
    "hidden": true
   },
   "outputs": [],
   "source": [
    "%reload_ext autoreload\n",
    "%autoreload 2\n",
    "%matplotlib inline\n",
    "import time\n",
    "import warnings\n",
    "import os, sys\n",
    "from copy import deepcopy\n",
    "from types import SimpleNamespace\n",
    "\n",
    "_lib_path, _abs_path = None, os.path.abspath('.')\n",
    "if os.path.basename(os.path.normpath(_abs_path)) == 'multirotor':\n",
    "    _lib_path = os.path.abspath(os.path.join(_abs_path, '..'))\n",
    "elif os.path.isdir('multirotor'):\n",
    "    _lib_path = _abs_path\n",
    "if _lib_path is not None and _lib_path not in sys.path:\n",
    "    sys.path.append(_lib_path)\n",
    "\n",
    "import matplotlib.pyplot as plt\n",
    "import gym\n",
    "import numpy as np\n",
    "from tqdm.auto import tqdm, trange\n",
    "\n",
    "from multirotor.helpers import control_allocation_matrix, DataLog\n",
    "from multirotor.vehicle import MotorParams, VehicleParams, PropellerParams, SimulationParams\n",
    "from multirotor.controller import PosController, AttController, AltController, Controller\n",
    "from multirotor.simulation import Multirotor, Propeller, Motor, Battery\n",
    "from multirotor.visualize import VehicleDrawing\n",
    "from multirotor.coords import body_to_inertial, inertial_to_body, direction_cosine_matrix, angular_to_euler_rate\n",
    "from multirotor.env import DynamicsMultirotorEnv as LocalOctorotor\n",
    "from multirotor.trajectories import Trajectory"
   ]
  },
  {
   "cell_type": "code",
   "execution_count": null,
   "id": "421b284b",
   "metadata": {
    "hidden": true
   },
   "outputs": [],
   "source": [
    "# Plotting parameters\n",
    "SMALL_SIZE = 16\n",
    "MEDIUM_SIZE = 16\n",
    "BIGGER_SIZE = 20\n",
    "\n",
    "plt.rc('font', size=SMALL_SIZE)          # controls default text sizes\n",
    "plt.rc('axes', titlesize=MEDIUM_SIZE)     # fontsize of the axes title\n",
    "plt.rc('axes', labelsize=BIGGER_SIZE, titlesize=BIGGER_SIZE)    # fontsize of the x and y labels\n",
    "plt.rc('xtick', labelsize=MEDIUM_SIZE)    # fontsize of the tick labels\n",
    "plt.rc('ytick', labelsize=MEDIUM_SIZE)    # fontsize of the tick labels\n",
    "plt.rc('legend', fontsize=SMALL_SIZE)    # legend fontsize\n",
    "plt.rc('figure', titlesize=BIGGER_SIZE)  # fontsize of the figure title\n"
   ]
  },
  {
   "cell_type": "markdown",
   "id": "9a31149f",
   "metadata": {
    "heading_collapsed": true
   },
   "source": [
    "### Parameters"
   ]
  },
  {
   "cell_type": "code",
   "execution_count": null,
   "id": "1ba2a2fe",
   "metadata": {
    "hidden": true
   },
   "outputs": [],
   "source": [
    "# Tarot T18 params\n",
    "mp = MotorParams(\n",
    "    moment_of_inertia=5e-5,\n",
    "    resistance=0.27,\n",
    "    k_emf=0.0265\n",
    ")\n",
    "pp = PropellerParams(\n",
    "    moment_of_inertia=1.86e-6,\n",
    "    use_thrust_constant=True,\n",
    "    k_thrust=9.8419e-05,\n",
    "    k_drag=1.8503e-06,\n",
    "    motor=mp\n",
    ")\n",
    "vp = VehicleParams(\n",
    "    propellers=[pp] * 8,\n",
    "    angles=np.linspace(0, -2*np.pi, num=8, endpoint=False) + 0.375 * np.pi,\n",
    "    distances=np.ones(8) * 0.635,\n",
    "    clockwise=[-1,1,-1,1,-1,1,-1,1],\n",
    "    mass=10.66,\n",
    "    inertia_matrix=np.asarray([\n",
    "        [0.2206, 0, 0],\n",
    "        [0, 0.2206, 0.],\n",
    "        [0, 0, 0.4238]\n",
    "    ])\n",
    ")\n",
    "sp = SimulationParams(0.001, 9.81)"
   ]
  },
  {
   "cell_type": "markdown",
   "id": "17f3b34d",
   "metadata": {},
   "source": [
    "### Multirotor"
   ]
  },
  {
   "cell_type": "markdown",
   "id": "0505e4f6",
   "metadata": {
    "heading_collapsed": true
   },
   "source": [
    "#### Motor"
   ]
  },
  {
   "cell_type": "code",
   "execution_count": null,
   "id": "b3128c10",
   "metadata": {
    "hidden": true
   },
   "outputs": [],
   "source": [
    "%matplotlib inline\n",
    "plt.figure(figsize=(8,8))\n",
    "motor = Motor(mp, sp)\n",
    "for signal in [2, 4, 6, 8, 10, 12, 14, 16, 18, 20]:\n",
    "    speeds = []\n",
    "    motor.reset()\n",
    "    for i in range(200):\n",
    "        speeds.append(motor.step(signal))\n",
    "    plt.plot(speeds, label='%dV' % signal)\n",
    "plt.legend(ncol=2)\n",
    "plt.ylabel('Speed rad/s')\n",
    "plt.xlabel('Time /ms')"
   ]
  },
  {
   "cell_type": "markdown",
   "id": "6fb2f5c9",
   "metadata": {
    "heading_collapsed": true
   },
   "source": [
    "#### Propeller"
   ]
  },
  {
   "cell_type": "code",
   "execution_count": null,
   "id": "1669687b",
   "metadata": {
    "hidden": true
   },
   "outputs": [],
   "source": [
    "%matplotlib inline\n",
    "pp_ = deepcopy(pp)\n",
    "pp_.use_thrust_constant = False\n",
    "prop = Propeller(pp_, sp)\n",
    "plt.figure(figsize=(8,8))\n",
    "speeds = np.linspace(0, 600, num=100)\n",
    "for a in np.linspace(0, 10, 10, endpoint=False):\n",
    "    thrusts = []\n",
    "    for s in speeds:\n",
    "        thrusts.append(prop.thrust(s, np.asarray([0, 0, a])))\n",
    "    plt.plot(speeds, thrusts, label='%.1f m/s' % a)\n",
    "plt.xlabel('Speed rad/s')\n",
    "plt.ylabel('Thrust /N')\n",
    "plt.title('Thrust with airspeed')\n",
    "plt.legend(ncol=2)"
   ]
  },
  {
   "cell_type": "markdown",
   "id": "e7bb489d",
   "metadata": {
    "heading_collapsed": true
   },
   "source": [
    "#### Multirotor"
   ]
  },
  {
   "cell_type": "code",
   "execution_count": null,
   "id": "a7197b2e",
   "metadata": {
    "hidden": true
   },
   "outputs": [],
   "source": [
    "m = Multirotor(vp, sp)\n",
    "m.reset()"
   ]
  },
  {
   "cell_type": "code",
   "execution_count": null,
   "id": "30aa5565",
   "metadata": {
    "hidden": true
   },
   "outputs": [],
   "source": [
    "action = m.allocate_control(m.weight, np.asarray([0, 1e-1, 0]))\n",
    "for i in range(500): m.step_speeds(action)\n",
    "print(m.orientation * 180 / np.pi)"
   ]
  },
  {
   "cell_type": "code",
   "execution_count": null,
   "id": "3216b929",
   "metadata": {
    "hidden": true
   },
   "outputs": [],
   "source": [
    "m.reset()\n",
    "ctrl = Controller(\n",
    "    PosController(0.1, 0.0, 0., 1., dt=1e-3, vehicle=m),\n",
    "    AttController(np.asarray([10., 10., 0]), 0, 0., 1., dt=1e-3, vehicle=m),\n",
    "    AltController(10,0,0,1, dt=1e-3, vehicle=m)\n",
    ")\n",
    "\n",
    "\n",
    "positions = []\n",
    "errs = []\n",
    "alloc_th = []\n",
    "alloc_to = []\n",
    "orientations = []\n",
    "actions = []\n",
    "\n",
    "targets = [[0,0,2], [0,10,2], [10,10,2], [10,0,2], [0,0,0]]\n",
    "for i in trange(len(targets), leave=False):\n",
    "    ref = np.asarray([*targets[i], 0.])\n",
    "    # Get prescribed dynamics for system\n",
    "    dynamics = ctrl.step(ref)\n",
    "    thrust, torques = dynamics[0], dynamics[1:]\n",
    "    errs.append(ctrl.ctrl_p.err)\n",
    "    alloc_th.append(thrust)\n",
    "    alloc_to.append(torques)\n",
    "    # Convert dynamics into motor RPMs\n",
    "    action = m.allocate_control(thrust, torques)\n",
    "    actions.append(action)\n",
    "    m.step_speeds(action)\n",
    "    positions.append(m.position)\n",
    "    orientations.append(m.orientation)\n",
    "    if i >= 60000: break\n",
    "\n",
    "positions = np.asarray(positions)\n",
    "errs = np.asarray(errs)\n",
    "alloc_th = np.asarray(alloc_th)\n",
    "alloc_to = np.asarray(alloc_to)\n",
    "orientations = np.asarray(orientations)\n",
    "actions = np.asarray(actions)"
   ]
  },
  {
   "cell_type": "code",
   "execution_count": null,
   "id": "a045fed5",
   "metadata": {
    "hidden": true
   },
   "outputs": [],
   "source": [
    "plt.figure(figsize=(14,9))\n",
    "plt.subplot(1,2,1)\n",
    "for p,l, c in zip(positions.T, 'xyz', 'rgb'):\n",
    "    plt.plot(p, label=l, c=c)\n",
    "lines = plt.gca().lines\n",
    "plt.twinx()\n",
    "for p,l,c in zip(orientations.T, ('roll', 'pitch', 'yaw'), 'cmy'):\n",
    "    plt.plot(p * 180 / np.pi, label=l, ls=':', c=c)\n",
    "plt.legend(handles=plt.gca().lines+lines)\n",
    "\n",
    "plt.subplot(1,2,2)\n",
    "l = plt.plot(alloc_th, label='Ctrl Thrust')\n",
    "plt.twinx()\n",
    "for i, c, a in zip(range(3), 'rgb', 'xyz'):\n",
    "    plt.plot(alloc_to[:,i], label='Ctrl Torque %s' % a, c=c)\n",
    "plt.legend(handles=plt.gca().lines + l)"
   ]
  },
  {
   "cell_type": "markdown",
   "id": "9eb34672",
   "metadata": {},
   "source": [
    "### Simulation"
   ]
  },
  {
   "cell_type": "code",
   "execution_count": null,
   "id": "f5f52df4",
   "metadata": {},
   "outputs": [],
   "source": [
    "# def wind(t, m):\n",
    "#     w_inertial = np.asarray([5 * np.sin(t * 2 * np.pi / 4000), 0, 0])\n",
    "#     dcm = direction_cosine_matrix(*m.orientation)\n",
    "#     return inertial_to_body(w_inertial, dcm)[:2]\n",
    "wind = lambda t, m: [0, 0]"
   ]
  },
  {
   "cell_type": "code",
   "execution_count": null,
   "id": "a98de44f",
   "metadata": {
    "scrolled": true
   },
   "outputs": [],
   "source": [
    "m = Multirotor(vp, sp)\n",
    "m.reset()\n",
    "env = LocalOctorotor(vehicle=m)\n",
    "env.vehicle.state[2] = 1.\n",
    "traj = Trajectory([[0,0,2], [15,0,2], [15,15,2], [0,15,2], [0,0,2]],\n",
    "                  env.vehicle, proximity=2, resolution=None)\n",
    "\n",
    "for _ in range(5000):\n",
    "    state, *_ = env.step(np.asarray([0., 0., vp.mass * sp.g * 1.01, 0., 0., 0.]))"
   ]
  },
  {
   "cell_type": "code",
   "execution_count": null,
   "id": "dea77bcb",
   "metadata": {},
   "outputs": [],
   "source": [
    "ctrl = Controller(\n",
    "    # (Outer) Position controller has low sensitivity\n",
    "    PosController(0.5, 0.02, 0., 1., dt=1e-3, vehicle=m),\n",
    "    # (Inner) Attitude controller is more responsive (except for yaw, which we are not controlling)\n",
    "    AttController(np.asarray([50., 50., 2.]),\n",
    "                  np.asarray([10., 10., 2.]),\n",
    "                  np.asarray([0., 0., 0.]), 1., dt=1e-3, vehicle=m),\n",
    "    # Altitude controller is more responsive as well\n",
    "    AltController(50, 2, 0, 1, dt=1e-3, vehicle=m)\n",
    ")\n",
    "      \n",
    "errs = SimpleNamespace()\n",
    "errs.pos = SimpleNamespace()\n",
    "errs.pos.p, errs.pos.i, errs.pos.d = [], [], []\n",
    "errs.att = SimpleNamespace()\n",
    "errs.att.p, errs.att.i, errs.att.d = [], [], []\n",
    "\n",
    "log = DataLog(env.vehicle, ctrl, 'action', 'target', 'alloc_errs')\n",
    "\n",
    "for i, pos in tqdm(enumerate(traj), leave=False, total=60000):\n",
    "    if i==60000: break\n",
    "    # Generate reference for controller\n",
    "    ref = np.asarray([*pos, 0.])\n",
    "    # Get prescribed dynamics for system as thrust and torques\n",
    "    dynamics = ctrl.step(ref)\n",
    "    thrust, torques = dynamics[0], dynamics[1:]\n",
    "    # Allocate control: Convert dynamics into motor rad/s\n",
    "    action = m.allocate_control(thrust, torques)\n",
    "    # Add any faults/restrictions to motor dynamics\n",
    "    action = np.clip(action, a_min=0, a_max=400)\n",
    "    # if i > 30000: action[3] = min(action[3], 300)\n",
    "    # Get resultant forces/torques given propeller states\n",
    "    f, t = m.get_forces_torques(action, state)\n",
    "    # Add environmental disturbances\n",
    "    f[:2] += wind(i, env.vehicle)\n",
    "    # Send dynamics to environment\n",
    "    state, *_ = env.step(np.asarray([*f, *t]))\n",
    "    \n",
    "    for (c, e) in zip((ctrl.ctrl_p, ctrl.ctrl_a), (errs.pos, errs.att)):\n",
    "        e.p.append(c.err_p)\n",
    "        e.i.append(c.err_i)\n",
    "        e.d.append(c.err_d)\n",
    "    alloc_errs = np.asarray([thrust, *torques]) - m.alloc @ action**2\n",
    "    \n",
    "    log.log(action=action, target=pos, alloc_errs=alloc_errs)\n",
    "\n",
    "    if np.any(np.abs(m.orientation[:2]) > np.pi/6): break\n",
    "\n",
    "log.done_logging()\n",
    "for e in (errs.pos, errs.att):\n",
    "    e.p = np.asarray(e.p)\n",
    "    e.i = np.asarray(e.i)\n",
    "    e.d = np.asarray(e.d)"
   ]
  },
  {
   "cell_type": "code",
   "execution_count": null,
   "id": "81a8043e",
   "metadata": {
    "scrolled": false
   },
   "outputs": [],
   "source": [
    "%matplotlib inline\n",
    "plt.figure(figsize=(21,10.5))\n",
    "plot_grid = (3,3)\n",
    "plt.subplot(*plot_grid,1)\n",
    "\n",
    "n = len(log)\n",
    "\n",
    "plt.plot(log.x, label='x', c='r')\n",
    "plt.plot(log.target[:, 0], c='r', ls=':')\n",
    "plt.plot(log.y, label='y', c='g')\n",
    "plt.plot(log.target[:, 1], c='g', ls=':')\n",
    "plt.plot(log.z, label='z', c='b')\n",
    "lines = plt.gca().lines[::2]\n",
    "plt.ylabel('Position /m')\n",
    "plt.twinx()\n",
    "plt.plot(log.roll * (180 / np.pi), label='roll', c='c', ls=':')\n",
    "plt.plot(log.pitch * (180 / np.pi), label='pitch', c='m', ls=':')\n",
    "plt.plot(log.yaw * (180 / np.pi), label='yaw', c='y', ls=':')\n",
    "plt.ylabel('Orientation /deg')\n",
    "plt.legend(handles=plt.gca().lines + lines, ncol=2)\n",
    "plt.title('Position and Orientation')\n",
    "\n",
    "plt.subplot(*plot_grid,2)\n",
    "for i in range(log.action.shape[1]):\n",
    "    l, = plt.plot(log.action[:,i], label='prop %d' % i)\n",
    "#     plt.plot(speeds[:,i], c=l.get_c())\n",
    "lines = plt.gca().lines\n",
    "plt.legend(handles=lines, ncol=2)\n",
    "plt.title('Motor speeds /RPM')\n",
    "\n",
    "\n",
    "plt.subplot(*plot_grid,3)\n",
    "v_world = np.zeros_like(log.velocity)\n",
    "for i, (v, o) in enumerate(zip(log.velocity, log.orientation)):\n",
    "    dcm = direction_cosine_matrix(*o)\n",
    "    v_world[i] = body_to_inertial(v, dcm)\n",
    "for i, c, a in zip(range(3), 'rgb', 'xyz'):\n",
    "    plt.plot(v_world[:,i], label='Velocity %s' % a, c=c)\n",
    "#     plt.plot(velocities[:,i], label='Velocity %s' % a, c=c)\n",
    "plt.legend()\n",
    "plt.title('Velocities')\n",
    "\n",
    "plt.subplot(*plot_grid,4)\n",
    "plt.title('Controller allocated dynamics')\n",
    "l = plt.plot(log.thrust, label='Ctrl Thrust')\n",
    "plt.ylabel('Force /N')\n",
    "plt.twinx()\n",
    "for i, c, a in zip(range(3), 'rgb', 'xyz'):\n",
    "    plt.plot(log.torques[:,i], label='Ctrl Torque %s' % a, c=c)\n",
    "plt.ylabel('Torque /Nm')\n",
    "plt.legend(handles=plt.gca().lines + l, ncol=2)\n",
    "\n",
    "plt.subplot(*plot_grid,5)\n",
    "lines = plt.plot(log.alloc_errs[:, 0], label='Thrust err', c='b')\n",
    "plt.ylabel('Thrust /N')\n",
    "plt.twinx()\n",
    "plt.plot(log.alloc_errs[:, 1], label='Torque x err', ls=':')\n",
    "plt.plot(log.alloc_errs[:, 2], label='Torque y err', ls=':')\n",
    "plt.plot(log.alloc_errs[:, 3], label='Torque z err', ls=':')\n",
    "plt.legend(handles = plt.gca().lines + lines, ncol=2)\n",
    "plt.ylabel('Torque /Nm')\n",
    "plt.title('Allocation Errors')\n",
    "\n",
    "plt.subplot(*plot_grid,6)\n",
    "plt.plot(log.target[:,0], log.target[:,1], label='Prescribed traj')\n",
    "plt.plot(log.x, log.y, label='Actual traj')\n",
    "plt.gca().set_aspect('equal', 'box')\n",
    "plt.title('XY positions /m')\n",
    "plt.legend()\n",
    "\n",
    "plt.tight_layout()"
   ]
  },
  {
   "cell_type": "code",
   "execution_count": null,
   "id": "c17d8b15",
   "metadata": {
    "scrolled": false
   },
   "outputs": [],
   "source": [
    "%matplotlib inline\n",
    "lines = []\n",
    "plt.figure(figsize=(21,24))\n",
    "plt.subplot(6,1,1)\n",
    "plt.plot(errs.pos.p[:,0], label='Pos-x P', c='r', ls='-')\n",
    "plt.plot(errs.pos.p[:,1], label='Pos-y P', c='g', ls='-')\n",
    "lines += plt.gca().lines\n",
    "plt.title('Position P errors')\n",
    "plt.subplot(6,1, 2)\n",
    "plt.plot(errs.pos.i[:, 0], label='Pos-x I', c='r', ls=':')\n",
    "plt.plot(errs.pos.i[:, 1], label='Pos-y I', c='g', ls=':')\n",
    "lines += plt.gca().lines\n",
    "plt.title('Position I errors')\n",
    "plt.subplot(6,1, 3)\n",
    "plt.plot(errs.pos.d[:, 0], label='Pos-x D', c='r', ls='-.')\n",
    "plt.plot(errs.pos.d[:, 1], label='Pos-y D', c='g', ls='-.')\n",
    "lines += plt.gca().lines\n",
    "plt.legend(handles=lines)\n",
    "plt.title('Position D errors')\n",
    "lines = []\n",
    "plt.subplot(6,1,4)\n",
    "plt.plot(errs.att.p[:,0], label='Att-x P', c='r', ls='-')\n",
    "plt.plot(errs.att.p[:,1], label='Att-y P', c='g', ls='-')\n",
    "lines += plt.gca().lines\n",
    "plt.title('Position P errors')\n",
    "plt.subplot(6,1, 5)\n",
    "plt.plot(errs.att.i[:, 0], label='Att-x I', c='r', ls=':')\n",
    "plt.plot(errs.att.i[:, 1], label='Att-y I', c='g', ls=':')\n",
    "lines += plt.gca().lines\n",
    "plt.title('Position I errors')\n",
    "plt.subplot(6,1, 6)\n",
    "plt.plot(errs.att.d[:, 0], label='Att-x D', c='r', ls='-.')\n",
    "plt.plot(errs.att.d[:, 1], label='Att-y D', c='g', ls='-.')\n",
    "lines += plt.gca().lines\n",
    "plt.legend(handles=lines)\n",
    "plt.title('Position D errors')"
   ]
  },
  {
   "cell_type": "code",
   "execution_count": null,
   "id": "d9d99572",
   "metadata": {},
   "outputs": [],
   "source": [
    "%matplotlib notebook\n",
    "fig = plt.figure()\n",
    "xlim = ylim = zlim = (np.min(log.position), np.max(log.position))\n",
    "ax = fig.add_subplot(projection='3d', xlim=xlim, ylim=ylim, zlim=zlim)\n",
    "ax.set_xlabel('x')\n",
    "ax.set_ylabel('y')\n",
    "ax.set_zlabel('z')\n",
    "ax.plot(log.x, log.y, log.z)"
   ]
  },
  {
   "cell_type": "markdown",
   "id": "e87063b0",
   "metadata": {
    "heading_collapsed": true
   },
   "source": [
    "### Variations"
   ]
  },
  {
   "cell_type": "code",
   "execution_count": null,
   "id": "7c0024dc",
   "metadata": {
    "hidden": true,
    "scrolled": true
   },
   "outputs": [],
   "source": [
    "from multirotor.helpers import vehicle_params_factory"
   ]
  },
  {
   "cell_type": "code",
   "execution_count": null,
   "id": "4a591d5b",
   "metadata": {
    "hidden": true,
    "scrolled": true
   },
   "outputs": [],
   "source": [
    "vp4 = vehicle_params_factory(4, m_prop=0.125, d_prop=0.25, params=pp, m_body=4)\n",
    "vp6 = vehicle_params_factory(6, m_prop=0.125, d_prop=0.5, params=pp, m_body=6)\n",
    "vp8 = vehicle_params_factory(8, m_prop=0.125, d_prop=0.75, params=pp, m_body=8)\n",
    "wind = lambda t, m: [2, 0]\n",
    "logs = []\n",
    "for vpx in tqdm([vp4, vp6, vp8], leave=False):\n",
    "    m = Multirotor(vpx, sp)\n",
    "    env = LocalOctorotor(vehicle=m, allocate=True, max_rads=400)\n",
    "    env.reset()\n",
    "    traj = Trajectory([[2.5,5,0, 2000], [5,0,0,2000], [0,0,0,2000]],\n",
    "                      env.vehicle, proximity=0.2, resolution=None)\n",
    "\n",
    "    ctrl = Controller(\n",
    "        # (Outer) Position controller has low sensitivity\n",
    "        PosController(0.2, 0.02, 0., 1., dt=sp.dt, vehicle=m, max_tilt=np.pi/18),\n",
    "        # (Inner) Attitude controller is more responsive (except for yaw, which we are not controlling)\n",
    "        AttController(np.asarray([50., 50., 0.]),\n",
    "                      np.asarray([50., 50., 0.]),\n",
    "                      np.asarray([1., 1., 0.]), 1., dt=sp.dt, vehicle=env.vehicle),\n",
    "        # Altitude controller is more responsive as well\n",
    "        AltController(50, 2, 0, 1, dt=1e-3, vehicle=m)\n",
    "    )\n",
    "    \n",
    "    log = DataLog(env.vehicle, ctrl, 'targets')\n",
    "\n",
    "    for i, pos in tqdm(enumerate(traj), leave=False, total=60000):\n",
    "        if i==60000: break\n",
    "        # Get prescribed dynamics for system\n",
    "        reference = np.asarray([*pos, 0.])\n",
    "        dynamics = ctrl.step(reference)\n",
    "        thrust, torques = dynamics[0], dynamics[1:]\n",
    "        forces = np.asarray([0, 0, thrust])\n",
    "        # Add disturbances\n",
    "        f[:2] += wind(i, env.vehicle)\n",
    "        # apply to simulation\n",
    "        state, *_ = env.step(np.asarray([*forces, *torques]))\n",
    "        \n",
    "        log.log(targets=pos)\n",
    "\n",
    "    log.done_logging()\n",
    "    logs.append(log)"
   ]
  },
  {
   "cell_type": "code",
   "execution_count": null,
   "id": "0b8e3a15",
   "metadata": {
    "hidden": true
   },
   "outputs": [],
   "source": [
    "%matplotlib inline\n",
    "plt.figure(figsize=(6,6))\n",
    "for log, label, ls, lw in zip(\n",
    "    logs,\n",
    "    ('quad-rotor', 'hexa-rotor', 'octo-rotor'),\n",
    "    ('-','--',':'),\n",
    "    (2,3,4)\n",
    "):\n",
    "    plt.plot(log.x, log.y, label=label, ls=ls, lw=lw)\n",
    "plt.gca().set_aspect('equal', 'box')\n",
    "plt.title('XY positions /m')\n",
    "plt.grid(which='both')\n",
    "# plt.xlim(0, 5)\n",
    "# plt.ylim(0, 5)\n",
    "plt.legend()"
   ]
  }
 ],
 "metadata": {
  "kernelspec": {
   "display_name": "Python 3 (ipykernel)",
   "language": "python",
   "name": "python3"
  },
  "language_info": {
   "codemirror_mode": {
    "name": "ipython",
    "version": 3
   },
   "file_extension": ".py",
   "mimetype": "text/x-python",
   "name": "python",
   "nbconvert_exporter": "python",
   "pygments_lexer": "ipython3",
   "version": "3.9.10"
  },
  "vscode": {
   "interpreter": {
    "hash": "553746a2ac893171982ffcb8d83cc0ca836885831c1ad096aed2033dbb6014ba"
   }
  }
 },
 "nbformat": 4,
 "nbformat_minor": 5
}
